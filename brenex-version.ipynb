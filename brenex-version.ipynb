{
 "cells": [
  {
   "cell_type": "code",
   "execution_count": 0,
   "metadata": {
    "colab": {},
    "colab_type": "code",
    "id": "y4dHVP_WO6tl"
   },
   "outputs": [],
   "source": [
    "import math\n",
    "import random"
   ]
  },
  {
   "cell_type": "code",
   "execution_count": 0,
   "metadata": {
    "colab": {},
    "colab_type": "code",
    "id": "PCVKsNTDGaiX"
   },
   "outputs": [],
   "source": [
    "class Perceptron:\n",
    "    def __init__(self, input_size, lr=0.95, epochs=100, bias=1):\n",
    "        self.input_size = input_size\n",
    "        self.weights = []\n",
    "        for i in range(input_size + 1):\n",
    "            self.weights.append(random.uniform(-1, 1))\n",
    "        \n",
    "        self.epochs = epochs\n",
    "        self.lr = lr\n",
    "        self.bias = bias\n",
    "    \n",
    "    def activation(self, x):\n",
    "        s =  1.0 / ( 1 + math.pow(math.e, x) )\n",
    "        return s\n",
    "    \n",
    "    # Makes weighted sum of the inputs\n",
    "    def sum(self, x):\n",
    "        if len(x) != len(self.weights):\n",
    "            raise Exception(\n",
    "                \"Should have {} entries, got {}.\".format(\n",
    "                    len(self.weights) - 1, len(x) - 1\n",
    "                )\n",
    "            )\n",
    "        \n",
    "        s = 0\n",
    "        for i in range(len(x)):\n",
    "            s += x[i] * self.weights[i]\n",
    "        \n",
    "        return s\n",
    "    \n",
    "    # Predict the class for the inputs\n",
    "    def predict(self, x):\n",
    "        x_ = list(x) + [1]\n",
    "        s = self.sum(x_)\n",
    "        a = self.activation(s)\n",
    "        \n",
    "        return a"
   ]
  },
  {
   "cell_type": "code",
   "execution_count": 0,
   "metadata": {
    "colab": {},
    "colab_type": "code",
    "id": "kb69FRqlPKl_"
   },
   "outputs": [],
   "source": [
    "class MLP:\n",
    "    \n",
    "    def __init__(self, input_size, size_hidden, size_output):\n",
    "        self.input_size = input_size\n",
    "        self.input_layer = []\n",
    "        for i in range(input_size):\n",
    "            self.input_layer.append(Perceptron(input_size))\n",
    "            \n",
    "    def predict(self, x):\n",
    "        out1 = []\n",
    "        for i in range(self.size_hidden):\n",
    "            out1.append(self.perceptrons[i].predict(x))\n",
    "        \n",
    "        y = []\n",
    "        for i in range(self.size_hidden, self.size_output):\n",
    "            y.append(self.perceptrons[i].predict(x))\n",
    "        \n",
    "        return y"
   ]
  },
  {
   "cell_type": "code",
   "execution_count": 47,
   "metadata": {
    "colab": {
     "base_uri": "https://localhost:8080/",
     "height": 35
    },
    "colab_type": "code",
    "id": "e6slwzrTQROG",
    "outputId": "937f311e-f54e-4a5d-8703-6338113202e4"
   },
   "outputs": [
    {
     "data": {
      "text/plain": [
       "[]"
      ]
     },
     "execution_count": 47,
     "metadata": {
      "tags": []
     },
     "output_type": "execute_result"
    }
   ],
   "source": [
    "mlp = MLP(4, 5,3)\n",
    "mlp.predict((1,2,3,4))"
   ]
  },
  {
   "cell_type": "code",
   "execution_count": 0,
   "metadata": {
    "colab": {},
    "colab_type": "code",
    "id": "cH7d0893QRbS"
   },
   "outputs": [],
   "source": []
  },
  {
   "cell_type": "code",
   "execution_count": 0,
   "metadata": {
    "colab": {},
    "colab_type": "code",
    "id": "VzYbFLb-QRop"
   },
   "outputs": [],
   "source": []
  },
  {
   "cell_type": "code",
   "execution_count": 0,
   "metadata": {
    "colab": {},
    "colab_type": "code",
    "id": "jF9dnVx8QR38"
   },
   "outputs": [],
   "source": []
  }
 ],
 "metadata": {
  "colab": {
   "collapsed_sections": [],
   "name": "mlp.ipynb",
   "provenance": [],
   "version": "0.3.2"
  },
  "kernelspec": {
   "display_name": "Python 3",
   "language": "python",
   "name": "python3"
  },
  "language_info": {
   "codemirror_mode": {
    "name": "ipython",
    "version": 3
   },
   "file_extension": ".py",
   "mimetype": "text/x-python",
   "name": "python",
   "nbconvert_exporter": "python",
   "pygments_lexer": "ipython3",
   "version": "3.6.7"
  }
 },
 "nbformat": 4,
 "nbformat_minor": 1
}
