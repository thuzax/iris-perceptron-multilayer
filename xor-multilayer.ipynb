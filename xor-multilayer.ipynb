{
 "cells": [
  {
   "cell_type": "markdown",
   "metadata": {},
   "source": [
    "# Multilayer Perceptron - XOR"
   ]
  },
  {
   "cell_type": "markdown",
   "metadata": {},
   "source": [
    "Para execução do código é necessária a importação dos pacotes random, numpy e math, como no bloco executável abaixo."
   ]
  },
  {
   "cell_type": "markdown",
   "metadata": {},
   "source": [
    "## Importações"
   ]
  },
  {
   "cell_type": "markdown",
   "metadata": {},
   "source": [
    "Para execução do código é necessária a importação dos pacotes random e pprint, como no bloco executável abaixo."
   ]
  },
  {
   "cell_type": "code",
   "execution_count": 5,
   "metadata": {},
   "outputs": [],
   "source": [
    "import numpy as np\n",
    "import math\n",
    "import random\n"
   ]
  },
  {
   "cell_type": "markdown",
   "metadata": {},
   "source": [
    "## Funções auxiliares"
   ]
  },
  {
   "cell_type": "markdown",
   "metadata": {},
   "source": [
    "Abaixo estão as funções auxiliares utilizadas para cálculos."
   ]
  },
  {
   "cell_type": "code",
   "execution_count": 6,
   "metadata": {},
   "outputs": [],
   "source": [
    "def sigmoid(valor):\n",
    "  result = 1.0 / (1.0 + np.exp(-valor))\n",
    "  return result\n",
    "\n",
    "\n",
    "def sigmoid_derivada(valor):\n",
    "  result = valor * (1.0 - valor)\n",
    "  return result"
   ]
  },
  {
   "cell_type": "markdown",
   "metadata": {},
   "source": [
    "## Classe MLP"
   ]
  },
  {
   "cell_type": "markdown",
   "metadata": {},
   "source": [
    "Abaixo está a classe MLP, que representa a rede multilayer. Em seu construtor ela recebe como parâmetro as entradas que serão usadas para treino e inicializa as variáveis da classe, como os pesos das camadas e o tamanho das entradas.\n",
    "\n",
    "A função $run$ realiza o cálculo dos testes que recebe por parâmetro. Os testes devem ser passados em formato de matriz (cada linha contendo uma lista com dois valores binários).\n",
    "\n",
    "A função $train$ executa o treinamento. primeiro ela realiza o Foward propagation, utilizando a função sigmoid como função de ativação. Após isso a função realiza o Backward propagation e, por fim, atualiza os valores dos pesos utilizando os termos de correção. Esse processo é repetido $k$ vezes, sendo k um valor passado por parâmetros que representa o número de épocas. Também devem ser passados por parâmetros os inputs de teste e os resultados esperados."
   ]
  },
  {
   "cell_type": "code",
   "execution_count": 7,
   "metadata": {},
   "outputs": [],
   "source": [
    "class MLP:\n",
    "  def __init__(self, inputs):\n",
    "    self.inputs = inputs\n",
    "\n",
    "    self.tamanho = len(self.inputs)\n",
    "    self.tamanho_input = len(self.inputs[0])\n",
    "\n",
    "    self.pesos_i = np.random.random((self.tamanho_input, self.tamanho))\n",
    "    self.pesos_h = np.random.random((self.tamanho, 1))\n",
    "\n",
    "  # Predição\n",
    "  def run(self, input_run):\n",
    "    l1_result = sigmoid(np.dot(input_run, self.pesos_i))\n",
    "    l2_result = sigmoid(np.dot(l1_result, self.pesos_h))\n",
    "    \n",
    "    return l2_result\n",
    "\n",
    "\n",
    "  def train(self, inputs, outputs, k):\n",
    "    for i in range(k):\n",
    "      # Foward propagation para todos os testes\n",
    "      l_inputs = inputs\n",
    "      l_hidden = sigmoid(np.dot(l_inputs, self.pesos_i))\n",
    "      l_outputs = sigmoid(np.dot(l_hidden, self.pesos_h))\n",
    "\n",
    "      # Backward propagation para todos os testes\n",
    "      l_outputs_err = outputs - l_outputs\n",
    "      l_outputs_delta  =  np.multiply(l_outputs_err, sigmoid_derivada(l_outputs))\n",
    "\n",
    "      l_hidden_err = np.dot(l_outputs_delta, self.pesos_h.T)\n",
    "      l_hidden_delta = np.multiply(l_hidden_err, sigmoid_derivada(l_hidden))\n",
    "\n",
    "      # Correção dos vaores\n",
    "      self.pesos_h += np.dot(l_hidden.T, l_outputs_delta)\n",
    "      self.pesos_i += np.dot(l_inputs.T, l_hidden_delta)"
   ]
  },
  {
   "cell_type": "markdown",
   "metadata": {},
   "source": [
    "## Função principal"
   ]
  },
  {
   "cell_type": "markdown",
   "metadata": {},
   "source": [
    "A função principal inicializa as listas para treino com todas possibilidades de casos para o XOR. Feito isso, uma instância de MLP é criada e os treinos são executados.\n",
    "\n",
    "Após isso, são feitos testes com outras instâncias e seus resultados e acurácia são impressos em tela."
   ]
  },
  {
   "cell_type": "code",
   "execution_count": 8,
   "metadata": {},
   "outputs": [
    {
     "name": "stdout",
     "output_type": "stream",
     "text": [
      "[[0.70755547]\n",
      " [0.74765163]\n",
      " [0.73385342]\n",
      " [0.76873398]]\n",
      "0  XOR  0  =  0\n",
      "0  XOR  1  =  1\n",
      "1  XOR  0  =  1\n",
      "1  XOR  1  =  0\n",
      "0  XOR  0  =  0\n",
      "0  XOR  1  =  1\n",
      "1  XOR  0  =  1\n",
      "1  XOR  1  =  0\n",
      "100.0 %\n"
     ]
    }
   ],
   "source": [
    "inputs_treino = np.array([[0,0], [0,1], [1,0], [1,1] ])\n",
    "outputs = np.array([ [0], [1],[1],[0] ])\n",
    "\n",
    "n = MLP(inputs_treino)\n",
    "print(n.run(inputs_treino))\n",
    "n.train(inputs_treino, outputs, 10000)\n",
    "\n",
    "inputs_testes = np.array([[0,0], [0,1], [1,0], [1,1], [0,0], [0,1], [1,0], [1,1] ])\n",
    "outputs_esperados = np.array([0, 1, 1, 0, 0, 1, 1, 0])\n",
    "results = n.run(inputs_testes)\n",
    "\n",
    "acc = 0.0\n",
    "for idx, result in enumerate(results):\n",
    "  if result < 0.5:\n",
    "    print(inputs_testes[idx][0], \" XOR \", inputs_testes[idx][1], \" = \", math.floor(result))\n",
    "    if math.floor(result) == int(outputs_esperados[idx]):\n",
    "      acc += 1\n",
    "  else:\n",
    "    print(inputs_testes[idx][0], \" XOR \", inputs_testes[idx][1], \" = \", math.ceil(result))\n",
    "    if math.ceil(result) == int(outputs_esperados[idx]):\n",
    "      acc += 1\n",
    "\n",
    "print(acc / len(inputs_testes) * 100, \"%\")\n"
   ]
  }
 ],
 "metadata": {
  "kernelspec": {
   "display_name": "Python 3",
   "language": "python",
   "name": "python3"
  },
  "language_info": {
   "codemirror_mode": {
    "name": "ipython",
    "version": 3
   },
   "file_extension": ".py",
   "mimetype": "text/x-python",
   "name": "python",
   "nbconvert_exporter": "python",
   "pygments_lexer": "ipython3",
   "version": "3.6.7"
  }
 },
 "nbformat": 4,
 "nbformat_minor": 2
}
